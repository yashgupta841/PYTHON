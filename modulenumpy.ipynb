{
 "cells": [
  {
   "cell_type": "code",
   "execution_count": 3,
   "id": "74d4695e-63d3-4db3-8e5f-7bf831a5af3a",
   "metadata": {},
   "outputs": [],
   "source": [
    "%%capture\n",
    "!pip install numpy\n",
    "\n"
   ]
  },
  {
   "cell_type": "code",
   "execution_count": 5,
   "id": "381b8e06-0d70-4e79-94c6-0d86e8a15f72",
   "metadata": {},
   "outputs": [
    {
     "name": "stdout",
     "output_type": "stream",
     "text": [
      "[1 2 3 4]\n"
     ]
    }
   ],
   "source": [
    "import numpy as np\n"
   ]
  },
  {
   "cell_type": "code",
   "execution_count": 11,
   "id": "74e6439a-9f8c-4a30-a196-261149837573",
   "metadata": {},
   "outputs": [
    {
     "name": "stdout",
     "output_type": "stream",
     "text": [
      "[1. 2. 3. 4.]\n"
     ]
    }
   ],
   "source": [
    "list1= [1,2,3,4]\n",
    "arr1 = np.array(list1, dtype=np.float64)\n",
    "print(arr1)"
   ]
  },
  {
   "cell_type": "code",
   "execution_count": 9,
   "id": "aa5a3974-a179-48dd-9c27-806dae232f64",
   "metadata": {},
   "outputs": [
    {
     "data": {
      "text/plain": [
       "dtype('int32')"
      ]
     },
     "execution_count": 9,
     "metadata": {},
     "output_type": "execute_result"
    }
   ],
   "source": [
    "arr1.dtype"
   ]
  },
  {
   "cell_type": "code",
   "execution_count": 13,
   "id": "fd999d94-68dc-47c9-b957-ca720027dc9c",
   "metadata": {},
   "outputs": [
    {
     "name": "stdout",
     "output_type": "stream",
     "text": [
      "Addition: [5 7 9]\n",
      "Subtraction: [-3 -3 -3]\n",
      "Multiplication: [ 4 10 18]\n",
      "Division: [0.25 0.4  0.5 ]\n"
     ]
    }
   ],
   "source": [
    "a = np.array([1, 2, 3])\n",
    "b = np.array([4, 5, 6])\n",
    "\n",
    "print(\"Addition:\", a + b)\n",
    "print(\"Subtraction:\", a - b)\n",
    "print(\"Multiplication:\", a * b)\n",
    "print(\"Division:\", a / b)"
   ]
  },
  {
   "cell_type": "code",
   "execution_count": 15,
   "id": "609669ed-32ce-4bd0-867a-3f4e139a2252",
   "metadata": {},
   "outputs": [
    {
     "name": "stdout",
     "output_type": "stream",
     "text": [
      "First Element: 10\n",
      "Last Element: 50\n",
      "First Three Elements: [10 20 30]\n",
      "Elements from Index 2 to 4: [30 40 50]\n"
     ]
    }
   ],
   "source": [
    "arr = np.array([10, 20, 30, 40, 50])\n",
    "\n",
    "# Access elements by index\n",
    "print(\"First Element:\", arr[0])\n",
    "print(\"Last Element:\", arr[-1])\n",
    "\n",
    "# Slicing\n",
    "print(\"First Three Elements:\", arr[:3])\n",
    "print(\"Elements from Index 2 to 4:\", arr[2:5])\n"
   ]
  },
  {
   "cell_type": "code",
   "execution_count": 19,
   "id": "3f9f47c3-844c-4512-9856-77fcad53538e",
   "metadata": {},
   "outputs": [
    {
     "name": "stdout",
     "output_type": "stream",
     "text": [
      "Array + 10: [10 20 30]\n"
     ]
    }
   ],
   "source": [
    "#broadcasting\n",
    "arr = np.array([1, 2, 3])\n",
    "print(\"Array + 10:\", arr * 10)\n"
   ]
  },
  {
   "cell_type": "code",
   "execution_count": 21,
   "id": "af928af9-975a-4f1f-b617-d0ee0b9439b4",
   "metadata": {},
   "outputs": [
    {
     "name": "stdout",
     "output_type": "stream",
     "text": [
      "[[1 2]\n",
      " [3 4]]\n",
      "[[5 6]\n",
      " [7 8]]\n"
     ]
    }
   ],
   "source": [
    "#matrix operations\n",
    "A = np.array([[1, 2], [3, 4]])\n",
    "B = np.array([[5, 6], [7, 8]])\n",
    "print(A)\n",
    "print(B)\n"
   ]
  },
  {
   "cell_type": "code",
   "execution_count": 23,
   "id": "5bc2bce3-9fe8-442b-8be8-caeea860f738",
   "metadata": {},
   "outputs": [
    {
     "name": "stdout",
     "output_type": "stream",
     "text": [
      "Element-wise Multiplication:\n",
      " [[ 5 12]\n",
      " [21 32]]\n",
      "Matrix Multiplication:\n",
      " [[19 22]\n",
      " [43 50]]\n"
     ]
    }
   ],
   "source": [
    "A = np.array([[1, 2], [3, 4]])\n",
    "B = np.array([[5, 6], [7, 8]])\n",
    "\n",
    "# Element-wise multiplication\n",
    "print(\"Element-wise Multiplication:\\n\", A * B)\n",
    "\n",
    "# Matrix multiplication (dot product)\n",
    "print(\"Matrix Multiplication:\\n\", np.dot(A, B))"
   ]
  },
  {
   "cell_type": "code",
   "execution_count": 25,
   "id": "99c29f75-33b9-46c3-ac19-db9db189d0f9",
   "metadata": {},
   "outputs": [
    {
     "name": "stdout",
     "output_type": "stream",
     "text": [
      "[[1 2]\n",
      " [3 4]]\n",
      "[[1 3]\n",
      " [2 4]]\n"
     ]
    }
   ],
   "source": [
    "#transpose of matrix\n",
    "print(A)\n",
    "print(A.T)\n"
   ]
  },
  {
   "cell_type": "code",
   "execution_count": 27,
   "id": "8a776a80-8ca4-447c-848b-36d296507073",
   "metadata": {},
   "outputs": [
    {
     "name": "stdout",
     "output_type": "stream",
     "text": [
      "Inverse:\n",
      " [[-2.   1. ]\n",
      " [ 1.5 -0.5]]\n"
     ]
    }
   ],
   "source": [
    "#Inverse\n",
    "from numpy.linalg import inv\n",
    "\n",
    "A = np.array([[1, 2], [3, 4]])\n",
    "print(\"Inverse:\\n\", inv(A))"
   ]
  },
  {
   "cell_type": "code",
   "execution_count": 29,
   "id": "36822959-c73a-4b76-bd09-2159a92042e5",
   "metadata": {},
   "outputs": [
    {
     "name": "stdout",
     "output_type": "stream",
     "text": [
      "Original Array:\n",
      " [[11 16  9]\n",
      " [50 27 40]]\n",
      "Mean: 25.5\n",
      "Transpose:\n",
      " [[11 50]\n",
      " [16 27]\n",
      " [ 9 40]]\n"
     ]
    }
   ],
   "source": [
    "#create a 2x3 array or random Integers between 1 and 50.Find Its Mean and Transpose.\n",
    "import numpy as np\n",
    "arr = np.random.randint(1,51,size=(2,3))\n",
    "print(\"Original Array:\\n\",arr)\n",
    "mean_value = np.mean(arr)\n",
    "print(\"Mean:\",mean_value)\n",
    "transpose = arr.T\n",
    "print(\"Transpose:\\n\",transpose)"
   ]
  },
  {
   "cell_type": "code",
   "execution_count": 31,
   "id": "9fd3fde1-a49b-4067-8b6b-410a51c335e1",
   "metadata": {},
   "outputs": [
    {
     "data": {
      "text/plain": [
       "4"
      ]
     },
     "execution_count": 31,
     "metadata": {},
     "output_type": "execute_result"
    }
   ],
   "source": [
    "A.size"
   ]
  },
  {
   "cell_type": "code",
   "execution_count": 33,
   "id": "76ded057-54b1-4f43-a55e-ff16e006c4d1",
   "metadata": {},
   "outputs": [
    {
     "name": "stdout",
     "output_type": "stream",
     "text": [
      "Element-wise Addition:\n",
      " [[ 6  8]\n",
      " [10 12]]\n",
      "Matrix Multiplication:\n",
      " [[19 22]\n",
      " [43 50]]\n"
     ]
    }
   ],
   "source": [
    "#perform element-wise addition and matrix multiplication on two 2x2 matices\n",
    "import numpy as np\n",
    "\n",
    "A = np.array([[1, 2], [3, 4]])\n",
    "B = np.array([[5, 6], [7, 8]])\n",
    "\n",
    "print(\"Element-wise Addition:\\n\", A + B)\n",
    "print(\"Matrix Multiplication:\\n\", np.dot(A, B))"
   ]
  },
  {
   "cell_type": "code",
   "execution_count": 35,
   "id": "699faac1-68c1-4fe4-a514-c6694d7041b5",
   "metadata": {},
   "outputs": [
    {
     "name": "stdout",
     "output_type": "stream",
     "text": [
      "Original Array: [10 12 14 16 18 20]\n",
      "Modified Array: [10 12 14 -1 -1 -1]\n"
     ]
    }
   ],
   "source": [
    "#create a 1D array of even numbers between 10 and 20. replace all values greater than 15 with -1\n",
    "import numpy as np\n",
    "\n",
    "arr = np.arange(10, 21, 2)\n",
    "print(\"Original Array:\", arr)\n",
    "\n",
    "arr[arr > 15] = -1\n",
    "print(\"Modified Array:\", arr)"
   ]
  },
  {
   "cell_type": "code",
   "execution_count": 1,
   "id": "54d456bb-4224-431c-9f64-566ece4c5c97",
   "metadata": {},
   "outputs": [
    {
     "name": "stdout",
     "output_type": "stream",
     "text": [
      "Identity Matrix:\n",
      " [[1. 0. 0.]\n",
      " [0. 1. 0.]\n",
      " [0. 0. 1.]]\n",
      "Random Matrix:\n",
      " [[2 8 1]\n",
      " [5 4 2]\n",
      " [7 4 8]]\n",
      "Result of Multiplication:\n",
      " [[2. 8. 1.]\n",
      " [5. 4. 2.]\n",
      " [7. 4. 8.]]\n"
     ]
    }
   ],
   "source": [
    "#create a 3x3 identity Matrix and Multiply It with a Random 3x3 Matrix.\n",
    "import numpy as np\n",
    "\n",
    "identity_matrix = np.eye(3)\n",
    "random_matrix = np.random.randint(1, 10, size=(3, 3))\n",
    "\n",
    "print(\"Identity Matrix:\\n\", identity_matrix)\n",
    "print(\"Random Matrix:\\n\", random_matrix)\n",
    "\n",
    "result = np.dot(identity_matrix, random_matrix)\n",
    "print(\"Result of Multiplication:\\n\", result)\n",
    "\n",
    "\n",
    "\n"
   ]
  },
  {
   "cell_type": "code",
   "execution_count": null,
   "id": "662b96e1-d8ad-402d-bd3b-fb110a426594",
   "metadata": {},
   "outputs": [],
   "source": []
  }
 ],
 "metadata": {
  "kernelspec": {
   "display_name": "Python 3 (ipykernel)",
   "language": "python",
   "name": "python3"
  },
  "language_info": {
   "codemirror_mode": {
    "name": "ipython",
    "version": 3
   },
   "file_extension": ".py",
   "mimetype": "text/x-python",
   "name": "python",
   "nbconvert_exporter": "python",
   "pygments_lexer": "ipython3",
   "version": "3.12.4"
  }
 },
 "nbformat": 4,
 "nbformat_minor": 5
}
