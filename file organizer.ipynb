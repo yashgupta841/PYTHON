{
 "cells": [
  {
   "cell_type": "code",
   "execution_count": 7,
   "id": "0d90e20f-eb84-4381-8e72-0ebeab89bfcd",
   "metadata": {},
   "outputs": [
    {
     "name": "stdin",
     "output_type": "stream",
     "text": [
      "Enter the directory path to organize:  C:\\Users\\HP\\OneDrive\\Desktop\\jupyter\n"
     ]
    },
    {
     "name": "stdout",
     "output_type": "stream",
     "text": [
      "Files have been organized!\n"
     ]
    }
   ],
   "source": [
    "## address\n",
    "# list of files \n",
    "# create directory structure\n",
    "import os\n",
    "\n",
    "\n",
    "#Function to organize files into different folders\n",
    "\n",
    "\n",
    "def organize_files(directory):\n",
    "    # Detect the operating system using os.name\n",
    "    is_windows = os.name == 'nt'\n",
    "    # Define file categories and corresponding file extensions\n",
    "    file_types = {\n",
    "        'Videos': ['.mp4', '.mkv', '.avi', '.mov'],\n",
    "        'Audios': ['.mp3', '.wav', '.aac', '.flac'],\n",
    "        'Images': ['.jpg', '.jpeg', '.png', '.gif', '.bmp'],\n",
    "        'Documents': ['.pdf', '.doc', '.docx', '.xls', '.xlsx', '.ppt', '.pptx', '.txt'],\n",
    "        'Misc': []\n",
    "    }\n",
    "    # Create folders for each file category if they don't already exist\n",
    "    for folder in file_types.keys():\n",
    "        folder_path = os.path.join(directory, folder)\n",
    "        if not os.path.exists(folder_path):\n",
    "            os.makedirs(folder_path)\n",
    "    # Iterate over the files in the directory\n",
    "    for file_name in os.listdir(directory):\n",
    "        file_path = os.path.join(directory, file_name)\n",
    "        # Skip directories\n",
    "        if os.path.isdir(file_path):\n",
    "            continue\n",
    "        \n",
    "        # Determine the file extension\n",
    "        file_extension = os.path.splitext(file_name)[1].lower()\n",
    "        # Find the appropriate category for the file\n",
    "        moved = False\n",
    "        for folder, extensions in file_types.items():\n",
    "            if file_extension in extensions:\n",
    "                # Move the file to the corresponding folder\n",
    "                destination = os.path.join(directory, folder, file_name)\n",
    "                \n",
    "                # Check if file already exists at the destination\n",
    "                if not os.path.exists(destination):\n",
    "                    if is_windows:\n",
    "                        os.system(f'move \"{file_path}\" \"{destination}\"')\n",
    "                    else:\n",
    "                        os.system(f'mv \"{file_path}\" \"{destination}\"')\n",
    "                moved = True\n",
    "                break\n",
    "        \n",
    "        # If no matching category is found, move to the 'Misc' folder\n",
    "        if not moved:\n",
    "            misc_destination = os.path.join(directory, 'Misc', file_name)\n",
    "            if not os.path.exists(misc_destination):\n",
    "                if is_windows:\n",
    "                    os.system(f'move \"{file_path}\" \"{misc_destination}\"')\n",
    "                else:\n",
    "                    os.system(f'mv \"{file_path}\" \"{misc_destination}\"')\n",
    "    print(\"Files have been organized!\")\n",
    "\n",
    "\n",
    "if __name__ == \"__main__\":\n",
    "    user_input = input(\"Enter the directory path to organize: \")\n",
    "    if os.path.exists(user_input):\n",
    "        organize_files(user_input)\n",
    "    else:\n",
    "        print(\"Invalid directory path!\")\n"
   ]
  },
  {
   "cell_type": "code",
   "execution_count": 5,
   "id": "c5d78782-6539-4568-8360-fe1a275a4fb1",
   "metadata": {},
   "outputs": [
    {
     "name": "stdin",
     "output_type": "stream",
     "text": [
      "Enter the directory path to organize:  C:\\Users\\HP\\OneDrive\\Desktop\\jupyter\n"
     ]
    },
    {
     "name": "stdout",
     "output_type": "stream",
     "text": [
      "Files have been organized!\n"
     ]
    }
   ],
   "source": [
    "if __name__ == \"__main__\":\n",
    "    user_input = input(\"Enter the directory path to organize: \")\n",
    "    if os.path.exists(user_input):\n",
    "        organize_files(user_input)\n",
    "    else:\n",
    "        print(\"Invalid directory path!\")\n"
   ]
  },
  {
   "cell_type": "code",
   "execution_count": 7,
   "id": "0016e086-d7ea-4192-b492-2b429511b040",
   "metadata": {},
   "outputs": [
    {
     "name": "stdout",
     "output_type": "stream",
     "text": [
      "Failed to download file. Status code: 404\n"
     ]
    }
   ],
   "source": [
    "import requests\n",
    "\n",
    "\n",
    "def download_file(url, file_name):\n",
    "    # Send a GET request to the provided URL\n",
    "    response = requests.get(url)\n",
    "    \n",
    "    # Check if the request was successful (status code 200)\n",
    "    if response.status_code == 200:\n",
    "        # Open a local file in binary write mode and save the content\n",
    "        with open(file_name, 'wb') as file:\n",
    "            file.write(response.content)\n",
    "        print(f\"File '{file_name}' downloaded successfully.\")\n",
    "    else:\n",
    "        print(f\"Failed to download file. Status code: {response.status_code}\")#Example usage\n",
    "\n",
    "\n",
    "if __name__ == \"__main__\":\n",
    "\turl = 'https://example.com/file.pdf'\n",
    "\tfile_name = 'file.pdf'\n",
    "\tdownload_file(url, file_name) \n"
   ]
  },
  {
   "cell_type": "code",
   "execution_count": null,
   "id": "fd620d88-4e66-4e69-81d3-394b153ed0f4",
   "metadata": {},
   "outputs": [],
   "source": []
  }
 ],
 "metadata": {
  "kernelspec": {
   "display_name": "Python 3 (ipykernel)",
   "language": "python",
   "name": "python3"
  },
  "language_info": {
   "codemirror_mode": {
    "name": "ipython",
    "version": 3
   },
   "file_extension": ".py",
   "mimetype": "text/x-python",
   "name": "python",
   "nbconvert_exporter": "python",
   "pygments_lexer": "ipython3",
   "version": "3.12.4"
  }
 },
 "nbformat": 4,
 "nbformat_minor": 5
}
