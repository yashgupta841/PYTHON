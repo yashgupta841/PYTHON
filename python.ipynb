{
 "cells": [
  {
   "cell_type": "code",
   "execution_count": 1,
   "id": "a7b62311-b269-45ae-b8d3-2f4b63770712",
   "metadata": {},
   "outputs": [
    {
     "name": "stdout",
     "output_type": "stream",
     "text": [
      "1\n"
     ]
    }
   ],
   "source": [
    "a=1\n",
    "print(a)"
   ]
  },
  {
   "cell_type": "code",
   "execution_count": 3,
   "id": "487d6d4c-7450-4e02-be12-71c946bd50de",
   "metadata": {},
   "outputs": [
    {
     "name": "stdout",
     "output_type": "stream",
     "text": [
      "1.1\n",
      "2.1\n"
     ]
    }
   ],
   "source": [
    "b=1.1\n",
    "print(b)\n",
    "print(a+b)"
   ]
  },
  {
   "cell_type": "code",
   "execution_count": 5,
   "id": "30b04ed2-d10d-489b-84cd-610f6b77b50f",
   "metadata": {},
   "outputs": [
    {
     "data": {
      "text/plain": [
       "int"
      ]
     },
     "execution_count": 5,
     "metadata": {},
     "output_type": "execute_result"
    }
   ],
   "source": [
    "type(a)"
   ]
  },
  {
   "cell_type": "code",
   "execution_count": 7,
   "id": "f978e7c6-2b96-4a56-ac87-47ea0cd0083d",
   "metadata": {},
   "outputs": [
    {
     "data": {
      "text/plain": [
       "str"
      ]
     },
     "execution_count": 7,
     "metadata": {},
     "output_type": "execute_result"
    }
   ],
   "source": [
    "a=\"1.1\"\n",
    "\n",
    "type(a)"
   ]
  },
  {
   "cell_type": "code",
   "execution_count": 9,
   "id": "260cacf9-2796-48ce-a0f3-571c8d6d20e1",
   "metadata": {},
   "outputs": [
    {
     "data": {
      "text/plain": [
       "2528678807088"
      ]
     },
     "execution_count": 9,
     "metadata": {},
     "output_type": "execute_result"
    }
   ],
   "source": [
    "a=2.1\n",
    "id(a)"
   ]
  },
  {
   "cell_type": "code",
   "execution_count": 11,
   "id": "b4182dd3-b13a-48fb-b9c8-33d7217a9f4f",
   "metadata": {},
   "outputs": [
    {
     "name": "stdout",
     "output_type": "stream",
     "text": [
      "[1, 2, 3]\n"
     ]
    },
    {
     "data": {
      "text/plain": [
       "2528679480064"
      ]
     },
     "execution_count": 11,
     "metadata": {},
     "output_type": "execute_result"
    }
   ],
   "source": [
    "c=[1,2,3]\n",
    "print(c)\n",
    "id(c)"
   ]
  },
  {
   "cell_type": "code",
   "execution_count": 13,
   "id": "bbc7c1ef-d8ec-48b4-b8fa-414d717ed105",
   "metadata": {},
   "outputs": [
    {
     "name": "stdout",
     "output_type": "stream",
     "text": [
      "[1, 2, 3, 5]\n"
     ]
    },
    {
     "data": {
      "text/plain": [
       "2528679480064"
      ]
     },
     "execution_count": 13,
     "metadata": {},
     "output_type": "execute_result"
    }
   ],
   "source": [
    "c.append(5)\n",
    "print(c)\n",
    "id(c)"
   ]
  },
  {
   "cell_type": "code",
   "execution_count": 15,
   "id": "0d6a278e-6782-4b91-922a-017893732e0b",
   "metadata": {},
   "outputs": [
    {
     "name": "stdin",
     "output_type": "stream",
     "text": [
      "Enter Your Name yash\n"
     ]
    },
    {
     "name": "stdout",
     "output_type": "stream",
     "text": [
      "Hi yash\n"
     ]
    }
   ],
   "source": [
    "name=input(\"Enter Your Name\")\n",
    "print(f\"Hi {name}\")"
   ]
  },
  {
   "cell_type": "code",
   "execution_count": null,
   "id": "4d5cc187-a9c2-4e9a-9e30-062d9624db47",
   "metadata": {},
   "outputs": [],
   "source": [
    "#IF BLOCK"
   ]
  },
  {
   "cell_type": "code",
   "execution_count": 17,
   "id": "f1aa8eef-d418-4294-9e41-f28c35e251ef",
   "metadata": {},
   "outputs": [
    {
     "data": {
      "text/plain": [
       "True"
      ]
     },
     "execution_count": 17,
     "metadata": {},
     "output_type": "execute_result"
    }
   ],
   "source": [
    "1 < 2"
   ]
  },
  {
   "cell_type": "code",
   "execution_count": 19,
   "id": "fd1fa388-7075-4504-baa6-f1f71a9dbe4b",
   "metadata": {},
   "outputs": [
    {
     "data": {
      "text/plain": [
       "True"
      ]
     },
     "execution_count": 19,
     "metadata": {},
     "output_type": "execute_result"
    }
   ],
   "source": [
    "1 == 1"
   ]
  },
  {
   "cell_type": "code",
   "execution_count": 21,
   "id": "32948063-9ef0-41e7-a252-6e38566c2df9",
   "metadata": {},
   "outputs": [
    {
     "data": {
      "text/plain": [
       "False"
      ]
     },
     "execution_count": 21,
     "metadata": {},
     "output_type": "execute_result"
    }
   ],
   "source": [
    "1 != 1"
   ]
  },
  {
   "cell_type": "code",
   "execution_count": 23,
   "id": "124b53bf-c111-47be-917e-334fd8816fc3",
   "metadata": {},
   "outputs": [
    {
     "name": "stdout",
     "output_type": "stream",
     "text": [
      "a > b\n",
      "this condition is true\n"
     ]
    }
   ],
   "source": [
    "a = 10\n",
    "b = 1\n",
    "c = 5\n",
    "if a > b:\n",
    "    print(\"a > b\")\n",
    "    print(\"this condition is true\")  \n",
    "\n",
    "\n",
    "elif a==b:\n",
    "    pass\n",
    "\n",
    "else: # a< b\n",
    "    pass\n",
    "    "
   ]
  },
  {
   "cell_type": "code",
   "execution_count": 29,
   "id": "245f5e23-8156-4ef8-98a4-5056382c32cd",
   "metadata": {},
   "outputs": [
    {
     "name": "stdin",
     "output_type": "stream",
     "text": [
      "enter first name yash\n",
      "enter last name gupta\n"
     ]
    },
    {
     "name": "stdout",
     "output_type": "stream",
     "text": [
      " Hi YASH GUPTA\n"
     ]
    }
   ],
   "source": [
    "fname = input(\"enter first name\")\n",
    "lname = input(\"enter last name\")\n",
    "print(f\" Hi { fname.upper() } { lname.upper() }\")"
   ]
  },
  {
   "cell_type": "code",
   "execution_count": 31,
   "id": "669d8d1d-0069-447c-bd34-1ff65f2845a7",
   "metadata": {},
   "outputs": [
    {
     "name": "stdout",
     "output_type": "stream",
     "text": [
      "a is still less than b\n"
     ]
    }
   ],
   "source": [
    "a = 1\n",
    "b = 2\n",
    "while a < b:\n",
    "    print(\"a is still less than b\")\n",
    "    a = a + 1"
   ]
  },
  {
   "cell_type": "code",
   "execution_count": 33,
   "id": "f2710888-0b74-4fb6-8bc9-f1eb0c041ab5",
   "metadata": {},
   "outputs": [
    {
     "name": "stdout",
     "output_type": "stream",
     "text": [
      "HELLO, WORLD!\n",
      "Hello, world!\n",
      "hello, Python!\n"
     ]
    }
   ],
   "source": [
    "# string methods\n",
    "my_string = \"hello, world!\"\n",
    "print(my_string.upper())  # Output: HELLO, WORLD!\n",
    "print(my_string.capitalize())  # Output: Hello, world!\n",
    "print(my_string.replace(\"world\", \"Python\"))  # Output: hello, Python!\n"
   ]
  },
  {
   "cell_type": "code",
   "execution_count": 41,
   "id": "f3718485-9380-4abf-a6bc-7b927f02ca1e",
   "metadata": {},
   "outputs": [
    {
     "name": "stdout",
     "output_type": "stream",
     "text": [
      "HelloHelloHello\n"
     ]
    }
   ],
   "source": [
    "# string operator ( concatination )\n",
    "# Concatenation\n",
    "\n",
    "str1 = \"Hello\"\n",
    "str2 = \"World\"\n",
    "result = str1 + \" \" + str2  # concatination\n",
    "result = str1 * 3   # repitition operator\n",
    "print(result)  "
   ]
  },
  {
   "cell_type": "code",
   "execution_count": 45,
   "id": "b0122f4e-4dd1-485b-b010-e99be8c199a4",
   "metadata": {},
   "outputs": [
    {
     "name": "stdout",
     "output_type": "stream",
     "text": [
      "True\n",
      "True\n"
     ]
    }
   ],
   "source": [
    "# membership operator\n",
    "str1 = \"Hello World\"\n",
    "print(\"World\" in str1)     # Output: True\n",
    "print(\"world\" not in str1) # Output: True (case-sensitive)"
   ]
  },
  {
   "cell_type": "code",
   "execution_count": 47,
   "id": "1bcd8210-d196-44e3-9349-1d9f4e6c93ba",
   "metadata": {},
   "outputs": [
    {
     "name": "stdout",
     "output_type": "stream",
     "text": [
      "P\n",
      "n\n",
      "Pyt\n"
     ]
    }
   ],
   "source": [
    "str1 = \"Python\"\n",
    "print(str1[0])    # Output: P (first character)\n",
    "print(str1[-1])   # Output: n (last character)\n",
    "print(str1[0:3])  # Output: Pyt (slice from index 0 to 2)"
   ]
  },
  {
   "cell_type": "code",
   "execution_count": 51,
   "id": "911e4fb7-dff0-4817-8e13-ab5f1199a39e",
   "metadata": {},
   "outputs": [
    {
     "name": "stdout",
     "output_type": "stream",
     "text": [
      "False\n",
      "True\n"
     ]
    }
   ],
   "source": [
    "# STRING COMPARISON OPERATOR\n",
    "str1 = \"apple\"\n",
    "str2 = \"banana\"\n",
    "print(str1 == str2)  \n",
    "print(str1 < str2)   "
   ]
  },
  {
   "cell_type": "code",
   "execution_count": 53,
   "id": "4b85b0e6-0817-4589-93aa-1e55f3d5a652",
   "metadata": {},
   "outputs": [
    {
     "name": "stdout",
     "output_type": "stream",
     "text": [
      "[0]\n",
      "[0, 4]\n",
      "[0, 4, 16]\n",
      "[0, 4, 16, 36]\n",
      "[0, 4, 16, 36, 64]\n"
     ]
    }
   ],
   "source": [
    "squares = []\n",
    "for i in range(10):\n",
    "    if i%2==0:\n",
    "      squares.append(i ** 2)\n",
    "      print(squares)"
   ]
  },
  {
   "cell_type": "code",
   "execution_count": 11,
   "id": "8008f4de-fe78-496e-a627-ddee83ff44a8",
   "metadata": {},
   "outputs": [
    {
     "name": "stdout",
     "output_type": "stream",
     "text": [
      "[1, 4, 9, 16, 25]\n"
     ]
    }
   ],
   "source": [
    "# Using map to square each number in a list\n",
    "\n",
    "numbers = [1, 2, 3, 4, 5]\n",
    "squared = map(lambda x: x * x, numbers)\n",
    "print(list(squared))  # Output: [1, 4, 9, 16, 25]Using filter to get only even numbers from a list\n",
    "\n",
    "\n"
   ]
  },
  {
   "cell_type": "code",
   "execution_count": null,
   "id": "fe397764-8a8c-468a-ba4e-bd525aaa8eba",
   "metadata": {},
   "outputs": [],
   "source": []
  }
 ],
 "metadata": {
  "kernelspec": {
   "display_name": "Python 3 (ipykernel)",
   "language": "python",
   "name": "python3"
  },
  "language_info": {
   "codemirror_mode": {
    "name": "ipython",
    "version": 3
   },
   "file_extension": ".py",
   "mimetype": "text/x-python",
   "name": "python",
   "nbconvert_exporter": "python",
   "pygments_lexer": "ipython3",
   "version": "3.12.4"
  }
 },
 "nbformat": 4,
 "nbformat_minor": 5
}
