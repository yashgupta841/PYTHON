{
 "cells": [
  {
   "cell_type": "code",
   "execution_count": 1,
   "id": "14f8faf6-c40d-47e0-8de3-2a8ba8c56747",
   "metadata": {},
   "outputs": [
    {
     "data": {
      "text/plain": [
       "([1, 2, 3, 4], 1614683482944, list)"
      ]
     },
     "execution_count": 1,
     "metadata": {},
     "output_type": "execute_result"
    }
   ],
   "source": [
    "list1  = [ 1, 2, 3, 4 ]\n",
    "list1, id(list1), type(list1)"
   ]
  },
  {
   "cell_type": "code",
   "execution_count": 3,
   "id": "034fbc62-ca8d-4fe7-95a2-b9537aeb7ad1",
   "metadata": {},
   "outputs": [
    {
     "data": {
      "text/plain": [
       "([1, 2, 3, 4, 10], 1614683482944, list)"
      ]
     },
     "execution_count": 3,
     "metadata": {},
     "output_type": "execute_result"
    }
   ],
   "source": [
    "list1.append(10)\n",
    "list1, id(list1), type(list1)"
   ]
  },
  {
   "cell_type": "code",
   "execution_count": 5,
   "id": "1f5a0ee8-ba41-4bc3-92b9-60e34b1b1f54",
   "metadata": {},
   "outputs": [
    {
     "data": {
      "text/plain": [
       "([2, 3, 4, 10], 1614683482944, list)"
      ]
     },
     "execution_count": 5,
     "metadata": {},
     "output_type": "execute_result"
    }
   ],
   "source": [
    "list1.remove(1)\n",
    "list1, id(list1), type(list1)"
   ]
  },
  {
   "cell_type": "code",
   "execution_count": 7,
   "id": "a6b0bce0-1440-4681-afe6-4e25771a45c0",
   "metadata": {},
   "outputs": [
    {
     "name": "stdout",
     "output_type": "stream",
     "text": [
      "Help on list object:\n",
      "\n",
      "class list(object)\n",
      " |  list(iterable=(), /)\n",
      " |\n",
      " |  Built-in mutable sequence.\n",
      " |\n",
      " |  If no argument is given, the constructor creates a new empty list.\n",
      " |  The argument must be an iterable if specified.\n",
      " |\n",
      " |  Methods defined here:\n",
      " |\n",
      " |  __add__(self, value, /)\n",
      " |      Return self+value.\n",
      " |\n",
      " |  __contains__(self, key, /)\n",
      " |      Return bool(key in self).\n",
      " |\n",
      " |  __delitem__(self, key, /)\n",
      " |      Delete self[key].\n",
      " |\n",
      " |  __eq__(self, value, /)\n",
      " |      Return self==value.\n",
      " |\n",
      " |  __ge__(self, value, /)\n",
      " |      Return self>=value.\n",
      " |\n",
      " |  __getattribute__(self, name, /)\n",
      " |      Return getattr(self, name).\n",
      " |\n",
      " |  __getitem__(self, index, /)\n",
      " |      Return self[index].\n",
      " |\n",
      " |  __gt__(self, value, /)\n",
      " |      Return self>value.\n",
      " |\n",
      " |  __iadd__(self, value, /)\n",
      " |      Implement self+=value.\n",
      " |\n",
      " |  __imul__(self, value, /)\n",
      " |      Implement self*=value.\n",
      " |\n",
      " |  __init__(self, /, *args, **kwargs)\n",
      " |      Initialize self.  See help(type(self)) for accurate signature.\n",
      " |\n",
      " |  __iter__(self, /)\n",
      " |      Implement iter(self).\n",
      " |\n",
      " |  __le__(self, value, /)\n",
      " |      Return self<=value.\n",
      " |\n",
      " |  __len__(self, /)\n",
      " |      Return len(self).\n",
      " |\n",
      " |  __lt__(self, value, /)\n",
      " |      Return self<value.\n",
      " |\n",
      " |  __mul__(self, value, /)\n",
      " |      Return self*value.\n",
      " |\n",
      " |  __ne__(self, value, /)\n",
      " |      Return self!=value.\n",
      " |\n",
      " |  __repr__(self, /)\n",
      " |      Return repr(self).\n",
      " |\n",
      " |  __reversed__(self, /)\n",
      " |      Return a reverse iterator over the list.\n",
      " |\n",
      " |  __rmul__(self, value, /)\n",
      " |      Return value*self.\n",
      " |\n",
      " |  __setitem__(self, key, value, /)\n",
      " |      Set self[key] to value.\n",
      " |\n",
      " |  __sizeof__(self, /)\n",
      " |      Return the size of the list in memory, in bytes.\n",
      " |\n",
      " |  append(self, object, /)\n",
      " |      Append object to the end of the list.\n",
      " |\n",
      " |  clear(self, /)\n",
      " |      Remove all items from list.\n",
      " |\n",
      " |  copy(self, /)\n",
      " |      Return a shallow copy of the list.\n",
      " |\n",
      " |  count(self, value, /)\n",
      " |      Return number of occurrences of value.\n",
      " |\n",
      " |  extend(self, iterable, /)\n",
      " |      Extend list by appending elements from the iterable.\n",
      " |\n",
      " |  index(self, value, start=0, stop=9223372036854775807, /)\n",
      " |      Return first index of value.\n",
      " |\n",
      " |      Raises ValueError if the value is not present.\n",
      " |\n",
      " |  insert(self, index, object, /)\n",
      " |      Insert object before index.\n",
      " |\n",
      " |  pop(self, index=-1, /)\n",
      " |      Remove and return item at index (default last).\n",
      " |\n",
      " |      Raises IndexError if list is empty or index is out of range.\n",
      " |\n",
      " |  remove(self, value, /)\n",
      " |      Remove first occurrence of value.\n",
      " |\n",
      " |      Raises ValueError if the value is not present.\n",
      " |\n",
      " |  reverse(self, /)\n",
      " |      Reverse *IN PLACE*.\n",
      " |\n",
      " |  sort(self, /, *, key=None, reverse=False)\n",
      " |      Sort the list in ascending order and return None.\n",
      " |\n",
      " |      The sort is in-place (i.e. the list itself is modified) and stable (i.e. the\n",
      " |      order of two equal elements is maintained).\n",
      " |\n",
      " |      If a key function is given, apply it once to each list item and sort them,\n",
      " |      ascending or descending, according to their function values.\n",
      " |\n",
      " |      The reverse flag can be set to sort in descending order.\n",
      " |\n",
      " |  ----------------------------------------------------------------------\n",
      " |  Class methods defined here:\n",
      " |\n",
      " |  __class_getitem__(...)\n",
      " |      See PEP 585\n",
      " |\n",
      " |  ----------------------------------------------------------------------\n",
      " |  Static methods defined here:\n",
      " |\n",
      " |  __new__(*args, **kwargs)\n",
      " |      Create and return a new object.  See help(type) for accurate signature.\n",
      " |\n",
      " |  ----------------------------------------------------------------------\n",
      " |  Data and other attributes defined here:\n",
      " |\n",
      " |  __hash__ = None\n",
      "\n"
     ]
    }
   ],
   "source": [
    "help(list1)"
   ]
  },
  {
   "cell_type": "code",
   "execution_count": 9,
   "id": "e39630ca-9d62-465a-940e-9aec168b6204",
   "metadata": {},
   "outputs": [],
   "source": [
    "tuple1 = (1 , 2 , 3)"
   ]
  },
  {
   "cell_type": "code",
   "execution_count": 11,
   "id": "b4708ce9-7347-491d-9e40-ce7581254e32",
   "metadata": {},
   "outputs": [
    {
     "data": {
      "text/plain": [
       "((1, 2, 3), 1614683702400)"
      ]
     },
     "execution_count": 11,
     "metadata": {},
     "output_type": "execute_result"
    }
   ],
   "source": [
    "tuple1, id(tuple1)"
   ]
  },
  {
   "cell_type": "code",
   "execution_count": 13,
   "id": "bfc930f2-26b1-4bdc-8e3a-4ab6f47d7673",
   "metadata": {},
   "outputs": [
    {
     "data": {
      "text/plain": [
       "2"
      ]
     },
     "execution_count": 13,
     "metadata": {},
     "output_type": "execute_result"
    }
   ],
   "source": [
    "tuple1[1]"
   ]
  },
  {
   "cell_type": "code",
   "execution_count": 15,
   "id": "7929a245-1e82-426f-be95-c86e31aa579d",
   "metadata": {},
   "outputs": [
    {
     "name": "stdout",
     "output_type": "stream",
     "text": [
      "H\n",
      "i\n",
      " \n",
      "p\n",
      "y\n",
      "t\n",
      "h\n",
      "o\n",
      "n\n"
     ]
    }
   ],
   "source": [
    "string1= \"Hi python\"\n",
    "lenstr = len(string1)\n",
    "# print(lenstr)\n",
    "string1[0:9]\n",
    "\n",
    "for i in range(0, len(string1)):\n",
    "    print(string1[i])"
   ]
  },
  {
   "cell_type": "code",
   "execution_count": 17,
   "id": "c5b49e76-8c2c-48d2-8011-6e9e5ac4eb8c",
   "metadata": {},
   "outputs": [
    {
     "name": "stdout",
     "output_type": "stream",
     "text": [
      "{'a', 'e', 'i', 'u', 'o'}\n"
     ]
    }
   ],
   "source": [
    "#sets\n",
    "vowels= {\"a\", \"e\", \"i\", \"o\", \"u\" , \"a\", \"i\"}\n",
    "print(vowels)"
   ]
  },
  {
   "cell_type": "code",
   "execution_count": 25,
   "id": "aca0e5bf-8e71-4dc8-9557-ec53643b2e49",
   "metadata": {},
   "outputs": [
    {
     "name": "stdout",
     "output_type": "stream",
     "text": [
      "deepali\n",
      "deepali\n",
      "val2\n"
     ]
    }
   ],
   "source": [
    "#dictionary\n",
    "Dict1 = {\n",
    "    \"Name\" : \"deepali\",\n",
    "    \"key1\": \"val1\",\n",
    "    \"key1\":\"val2\", \n",
    "    \"fName\" : \"deepali\",\n",
    "    \"key3\":\"val3\",\n",
    "    \"key4\":\"val4\"\n",
    "}\n",
    "print(Dict1[\"fName\"])\n",
    "print(Dict1[\"Name\"])\n",
    "print(Dict1[\"key1\"])\n",
    "\n"
   ]
  },
  {
   "cell_type": "code",
   "execution_count": 27,
   "id": "748de0a8-8ad1-4330-be92-0ea627eaa29d",
   "metadata": {},
   "outputs": [
    {
     "name": "stdout",
     "output_type": "stream",
     "text": [
      "key is Namevalue is deepali\n",
      "key is key1value is val2\n",
      "key is fNamevalue is deepali\n",
      "key is key3value is val3\n",
      "key is key4value is val4\n"
     ]
    }
   ],
   "source": [
    "for key, val in Dict1.items():\n",
    "    # print(f\"key is {key} val is {val}\") # fstring or format_method\n",
    "    print(\"key is \" + key + \"value is \" + val) \n",
    "    "
   ]
  },
  {
   "cell_type": "code",
   "execution_count": 31,
   "id": "10f2c97a-93ac-43b8-9a67-62497a917393",
   "metadata": {},
   "outputs": [
    {
     "name": "stdout",
     "output_type": "stream",
     "text": [
      "key is { } value is { }\n",
      "key is Name value is deep\n"
     ]
    }
   ],
   "source": [
    "key = \"Name\"\n",
    "val = \"deep\"\n",
    "fstr = \"key is { } value is { }\"\n",
    "print(fstr)\n",
    "fstr2 = f\"key is { key } value is { val }\"\n",
    "print(fstr2)"
   ]
  },
  {
   "cell_type": "code",
   "execution_count": 33,
   "id": "5f126140-f7d4-40b4-850e-fd780eac3106",
   "metadata": {},
   "outputs": [
    {
     "data": {
      "text/plain": [
       "([[1, 2], [3, 4]], 2)"
      ]
     },
     "execution_count": 33,
     "metadata": {},
     "output_type": "execute_result"
    }
   ],
   "source": [
    "Row1 = [ 1, 2 ]\n",
    "Row2 = [ 3, 4 ]\n",
    "matrix = [ Row1, Row2 ]\n",
    "matrix, len(matrix)"
   ]
  },
  {
   "cell_type": "code",
   "execution_count": 35,
   "id": "8a7e79d4-302c-428e-91bd-986dad305f64",
   "metadata": {},
   "outputs": [],
   "source": [
    "matrix[0] = 10"
   ]
  },
  {
   "cell_type": "code",
   "execution_count": 37,
   "id": "9688089c-3467-436b-9d49-feed8e53447e",
   "metadata": {},
   "outputs": [
    {
     "name": "stdout",
     "output_type": "stream",
     "text": [
      "1614683729792 [1, 2, 3, 4, 11, 2, 3, 4, 0, [3, 4]]\n",
      "1614683729792 [1, 2, 3, 4, 11, 2, 3, 4, 0, [3, 4]]\n",
      "1614683729792 [0, 2, 3, 4, 11, 2, 3, 4, 0, [3, 4]]\n",
      "1614683729792 [0, 2, 3, 4, 11, 2, 3, 4, 0, [3, 4]]\n",
      "1614683729792 [0, 2, 3, 4, 11, 2, 3, 4, 0, [3, 4, 100]]\n",
      "1614683729792 [0, 2, 3, 4, 11, 2, 3, 4, 0, [3, 4, 100]]\n"
     ]
    }
   ],
   "source": [
    "listA = [1, 2, 3, 4, 11, 2, 3, 4, 0, [3, 4]]\n",
    "listB = listA # creating a copy of listA\n",
    "print(id(listA),listA)\n",
    "print(id(listB),listB)\n",
    "# shallow\n",
    "listB[0] = 0\n",
    "print(id(listA),listA)\n",
    "print(id(listB),listB)\n",
    "# deep\n",
    "listB[len(listB)-1].append(100)\n",
    "print(id(listA),listA)\n",
    "print(id(listB),listB)\n"
   ]
  },
  {
   "cell_type": "code",
   "execution_count": null,
   "id": "2f9f7255-526b-4102-a703-3f322d05e4e6",
   "metadata": {},
   "outputs": [],
   "source": []
  }
 ],
 "metadata": {
  "kernelspec": {
   "display_name": "Python 3 (ipykernel)",
   "language": "python",
   "name": "python3"
  },
  "language_info": {
   "codemirror_mode": {
    "name": "ipython",
    "version": 3
   },
   "file_extension": ".py",
   "mimetype": "text/x-python",
   "name": "python",
   "nbconvert_exporter": "python",
   "pygments_lexer": "ipython3",
   "version": "3.12.4"
  }
 },
 "nbformat": 4,
 "nbformat_minor": 5
}
