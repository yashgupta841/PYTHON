{
 "cells": [
  {
   "cell_type": "markdown",
   "id": "8ff424c8-2738-4259-9ae0-6892aa96a50e",
   "metadata": {},
   "source": [
    "### write a program that takes a List of sap ids and returns a list of email addresses\n",
    "\n",
    "\n",
    "1. without using map, filter lambda or list comprehension\n",
    "1. using map. filter, lambda without using list comprehension\n",
    "1. using list comprehension\n",
    "\n",
    "```python\n",
    "#input\n",
    "list = [ 123, \"234\" ]\n",
    "#output\n",
    "res = [ \"123@stu.upes.ac.in\", \"234@stu.upes.ac.in\" ]\n",
    "```python\n"
   ]
  },
  {
   "cell_type": "code",
   "execution_count": null,
   "id": "6ef18086-af65-4a0c-a649-d17a0b5a4a0f",
   "metadata": {},
   "outputs": [],
   "source": [
    "# skeleton\n",
    "def generate_email_addresses(sap_ids):\n",
    "    # your logic\n",
    "\n",
    "\n",
    "    return email_list\n",
    "\n",
    "# sap_ids = [ 123, \"234\" ]\n",
    "res = generate_email_addresses(sap_ids)\n",
    "    "
   ]
  },
  {
   "cell_type": "code",
   "execution_count": 2,
   "id": "4b9215da-0222-4bbb-9554-f2dffb4de8bb",
   "metadata": {},
   "outputs": [
    {
     "name": "stdout",
     "output_type": "stream",
     "text": [
      "[123, '234', '234234', 123123]\n",
      "['123@stu.upes.ac.in', '234@stu.upes.ac.in', '234234@stu.upes.ac.in', '123123@stu.upes.ac.in']\n"
     ]
    }
   ],
   "source": [
    "# 1 logic\n",
    "def generate_email_addresses(sap_ids):\n",
    "    email_list = [] # place holder empty list\n",
    "    for id in sap_ids:\n",
    "        email = f\"{id}@stu.upes.ac.in\"\n",
    "        email_list.append(email)\n",
    "\n",
    "\n",
    "    return email_list\n",
    "\n",
    "sap_ids = [ 123, \"234\",\"234234\",123123 ]\n",
    "res = generate_email_addresses(sap_ids)\n",
    "print(sap_ids)\n",
    "print(res)\n",
    "\n",
    "    "
   ]
  },
  {
   "cell_type": "code",
   "execution_count": 16,
   "id": "4c32dcd0-1364-4bdc-bc73-418bad6a5bf4",
   "metadata": {},
   "outputs": [
    {
     "name": "stdout",
     "output_type": "stream",
     "text": [
      "[123, '234', '234234', 123123]\n",
      "['123@stu.upes.ac.in', '234@stu.upes.ac.in', '234234@stu.upes.ac.in', '123123@stu.upes.ac.in']\n"
     ]
    }
   ],
   "source": [
    "# 2 logic\n",
    "def id_to_email(id):\n",
    "    email = f\"{id}@stu.upes.ac.in\"\n",
    "    return email\n",
    "\n",
    "# id_to_email(\"123\")\n",
    "\n",
    "\n",
    "sap_ids = [ 123, \"234\", \"234234\",123123 ]\n",
    "res = list(map(id_to_email, sap_ids))\n",
    "print(sap_ids)\n",
    "print(res)"
   ]
  },
  {
   "cell_type": "code",
   "execution_count": 17,
   "id": "6bc5f9e8-139c-48a5-bdf1-229146febb94",
   "metadata": {},
   "outputs": [
    {
     "name": "stdout",
     "output_type": "stream",
     "text": [
      "[123, '234', '234234', 123123]\n",
      "['123@stu.upes.ac.in', '234@stu.upes.ac.in', '234234@stu.upes.ac.in', '123123@stu.upes.ac.in']\n"
     ]
    }
   ],
   "source": [
    "# 2 logic with lambda\n",
    "# def id_to_email(id):\n",
    "#     email = f\"{id}@stu.upes.ac.in\"\n",
    "#     return email\n",
    "\n",
    "# lambda id: f\"{id}@stu.upes.ac.in\"\n",
    "\n",
    "# id_to_email(\"123\")\n",
    "\n",
    "\n",
    "sap_ids = [ 123, \"234\", \"234234\",123123 ]\n",
    "# res = list(map(id_to_email, sap_ids))\n",
    "res = list(map(lambda id: f\"{id}@stu.upes.ac.in\" , sap_ids))\n",
    "\n",
    "print(sap_ids)\n",
    "print(res)"
   ]
  },
  {
   "cell_type": "code",
   "execution_count": 12,
   "id": "63f2e1a1-b4ac-4b54-9ab4-44dc03cec0d3",
   "metadata": {},
   "outputs": [
    {
     "name": "stdout",
     "output_type": "stream",
     "text": [
      "[123, '234', '234234', 123123]\n",
      "['123@stu.upes.ac.in', '234@stu.upes.ac.in', '234234@stu.upes.ac.in', '123123@stu.upes.ac.in']\n"
     ]
    }
   ],
   "source": [
    "# 3 logic using list comp\n",
    "\n",
    "res = [ f\"{id}@stu.upes.ac.in\" for id in sap_ids ]\n",
    "\n",
    "print(sap_ids)\n",
    "print(res)"
   ]
  },
  {
   "cell_type": "code",
   "execution_count": null,
   "id": "df44a31c-e0ac-4659-aa4e-db3bf8edaabf",
   "metadata": {},
   "outputs": [],
   "source": []
  }
 ],
 "metadata": {
  "kernelspec": {
   "display_name": "Python 3 (ipykernel)",
   "language": "python",
   "name": "python3"
  },
  "language_info": {
   "codemirror_mode": {
    "name": "ipython",
    "version": 3
   },
   "file_extension": ".py",
   "mimetype": "text/x-python",
   "name": "python",
   "nbconvert_exporter": "python",
   "pygments_lexer": "ipython3",
   "version": "3.11.8"
  }
 },
 "nbformat": 4,
 "nbformat_minor": 5
}
