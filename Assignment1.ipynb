{
 "cells": [
  {
   "cell_type": "code",
   "execution_count": 1,
   "id": "b3d791e8-9268-4fad-b560-a665a3aa8014",
   "metadata": {},
   "outputs": [
    {
     "name": "stdout",
     "output_type": "stream",
     "text": [
      "Hello,python world\n"
     ]
    }
   ],
   "source": [
    "print(\"Hello,python world\")"
   ]
  },
  {
   "cell_type": "code",
   "execution_count": 9,
   "id": "64d15ffa-02ac-4804-a032-d9f3d62b8173",
   "metadata": {},
   "outputs": [
    {
     "name": "stdin",
     "output_type": "stream",
     "text": [
      "enter your first name:    deepali\n",
      "enter your last name:  soni\n"
     ]
    },
    {
     "name": "stdout",
     "output_type": "stream",
     "text": [
      "Soni Deepali\n"
     ]
    }
   ],
   "source": [
    "#string operation\n",
    "first_name = input(\"enter your first name: \").strip().capitalize()\n",
    "last_name = input(\"enter your last name: \").strip().capitalize()\n",
    "#strip() is used to removes accidental spaces entered by the user\n",
    "#capitalize() is used to convert first letter of string to uppercase remaining letters to lowercase.\n",
    "#printing them in reverse order\n",
    "print(f\"{last_name} {first_name}\")"
   ]
  },
  {
   "cell_type": "code",
   "execution_count": 13,
   "id": "ab47295e-15e5-4624-902b-cd3dbf71cdd0",
   "metadata": {},
   "outputs": [
    {
     "name": "stdin",
     "output_type": "stream",
     "text": [
      "enter a number: 45\n"
     ]
    },
    {
     "name": "stdout",
     "output_type": "stream",
     "text": [
      "converted to integer 45\n",
      "converted to float 45.0\n",
      "converted to complex (45+0j)\n"
     ]
    }
   ],
   "source": [
    "#Numeric datatypes and conversion function\n",
    "a = input(\"enter a number:\")\n",
    "float_a=float(a)\n",
    "int_a=int(a)\n",
    "complex_a=complex(a)\n",
    "print(f\"converted to integer {int_a}\")\n",
    "print(f\"converted to float {float_a}\")\n",
    "print(f\"converted to complex {complex_a}\")"
   ]
  },
  {
   "cell_type": "code",
   "execution_count": 19,
   "id": "4dbbbdcf-df35-4e0e-b1cd-394a36dcc207",
   "metadata": {},
   "outputs": [
    {
     "name": "stdin",
     "output_type": "stream",
     "text": [
      "enter the length of the rectangel 4.5\n",
      "enter the width of the rectangel 3.5\n"
     ]
    },
    {
     "name": "stdout",
     "output_type": "stream",
     "text": [
      "15.75\n"
     ]
    }
   ],
   "source": [
    "#calcute the area of rectangle\n",
    "l = float(input(\"enter the length of the rectangel\"))\n",
    "w = float(input(\"enter the width of the rectangel\"))\n",
    "area = l * w\n",
    "print(area)"
   ]
  },
  {
   "cell_type": "code",
   "execution_count": 30,
   "id": "cc3c0a09-5ebd-4661-9aa4-2d7f6efabebe",
   "metadata": {},
   "outputs": [
    {
     "name": "stdin",
     "output_type": "stream",
     "text": [
      "enter the length of the rectangel 4.556\n",
      "enter the width of the rectangel 3.554\n"
     ]
    },
    {
     "name": "stdout",
     "output_type": "stream",
     "text": [
      "area of rectangle is 16.19\n"
     ]
    }
   ],
   "source": [
    "#using the format method\n",
    "l = float(input(\"enter the length of the rectangel\"))\n",
    "w = float(input(\"enter the width of the rectangel\"))\n",
    "area = l * w\n",
    "#displaying the result with two decimal places\n",
    "print(f\"area of rectangle is {area:.2f}\")\n",
    "#"
   ]
  },
  {
   "cell_type": "code",
   "execution_count": 36,
   "id": "7cfd4343-aa9e-48a1-8855-ee4a5dca055f",
   "metadata": {},
   "outputs": [
    {
     "name": "stdin",
     "output_type": "stream",
     "text": [
      "Enter the first number:  56\n",
      "Enter the second number:  45\n",
      "Enter the third number:  46\n"
     ]
    },
    {
     "name": "stdout",
     "output_type": "stream",
     "text": [
      "The average of 3 numbers is: [49.00].\n"
     ]
    }
   ],
   "source": [
    "# Prompting the user to enter three numbers\n",
    "num1 = float(input(\"Enter the first number: \"))\n",
    "num2 = float(input(\"Enter the second number: \"))\n",
    "num3 = float(input(\"Enter the third number: \"))\n",
    "\n",
    "# Calculating the average of the three numbers\n",
    "Average = (num1 + num2 + num3) / 3\n",
    "\n",
    "# Displaying the result using modulus method for string formatting\n",
    "print(\"The average of 3 numbers is: [%.2f].\" % Average)"
   ]
  },
  {
   "cell_type": "code",
   "execution_count": 46,
   "id": "24042ef6-cb14-4790-bb37-b14ea5d081e0",
   "metadata": {},
   "outputs": [
    {
     "name": "stdin",
     "output_type": "stream",
     "text": [
      "Enter the first number:  6\n",
      "Enter the second number:  7\n"
     ]
    },
    {
     "name": "stdout",
     "output_type": "stream",
     "text": [
      "One number is even and the other is odd.\n"
     ]
    }
   ],
   "source": [
    "#relational and logical operators\n",
    "# Prompting the user to enter two numbers\n",
    "num1 = int(input(\"Enter the first number: \"))\n",
    "num2 = int(input(\"Enter the second number: \"))\n",
    "\n",
    "# Determine if each number is even or odd\n",
    "is_num1_even = (num1 % 2 == 0)\n",
    "is_num2_even = (num2 % 2 == 0)\n",
    "\n",
    "# Check and print the conditions using logical operators\n",
    "if is_num1_even and is_num2_even:\n",
    "    print(\"Both numbers are even.\")\n",
    "elif not is_num1_even and not is_num2_even:\n",
    "    print(\"Both numbers are odd.\")\n",
    "else:\n",
    "    print(\"One number is even and the other is odd.\")\n",
    "\n",
    "\n"
   ]
  },
  {
   "cell_type": "code",
   "execution_count": null,
   "id": "a860d5db-9e52-4902-90ac-441b4c8e2d70",
   "metadata": {},
   "outputs": [],
   "source": []
  },
  {
   "cell_type": "code",
   "execution_count": null,
   "id": "6b9fc185-b934-4ff0-8702-16043c5fa926",
   "metadata": {},
   "outputs": [],
   "source": []
  }
 ],
 "metadata": {
  "kernelspec": {
   "display_name": "Python 3 (ipykernel)",
   "language": "python",
   "name": "python3"
  },
  "language_info": {
   "codemirror_mode": {
    "name": "ipython",
    "version": 3
   },
   "file_extension": ".py",
   "mimetype": "text/x-python",
   "name": "python",
   "nbconvert_exporter": "python",
   "pygments_lexer": "ipython3",
   "version": "3.12.4"
  }
 },
 "nbformat": 4,
 "nbformat_minor": 5
}
