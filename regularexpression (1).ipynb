{
 "cells": [
  {
   "cell_type": "code",
   "execution_count": 1,
   "id": "939fa2f2-4b6e-4058-bf04-779fb960b384",
   "metadata": {},
   "outputs": [
    {
     "name": "stdout",
     "output_type": "stream",
     "text": [
      "After substitution: The dog sat on the mat.\n"
     ]
    }
   ],
   "source": [
    "import re\n",
    "pattern = r\"cat\"\n",
    "text = \"The cat sat on the mat.\"\n",
    "result = re.sub(pattern, \"dog\", text)\n",
    "print(\"After substitution:\", result)\n"
   ]
  },
  {
   "cell_type": "code",
   "execution_count": 3,
   "id": "745c1dff-2778-45b0-a5eb-26b6d2cb9161",
   "metadata": {},
   "outputs": [
    {
     "name": "stdout",
     "output_type": "stream",
     "text": [
      "Split result: ['Split', 'this', 'sentence', 'by', 'spaces']\n"
     ]
    }
   ],
   "source": [
    "pattern = r\"\\s+\"\n",
    "text = \"Split this sentence by spaces\"\n",
    "result = re.split(pattern, text)\n",
    "print(\"Split result:\", result)\n"
   ]
  },
  {
   "cell_type": "code",
   "execution_count": null,
   "id": "c4f70371-f775-4ed1-af27-24a832ad8302",
   "metadata": {},
   "outputs": [],
   "source": [
    "import re\n",
    "test = \"\"\n",
    "pattern = r\"\\d.\\s\"\n",
    "splittedlist =\n"
   ]
  },
  {
   "cell_type": "code",
   "execution_count": 3,
   "id": "aae4ec21-2449-4e83-ac80-c9342e849206",
   "metadata": {},
   "outputs": [
    {
     "name": "stdout",
     "output_type": "stream",
     "text": [
      "after replacement\n",
      "\n",
      "\n",
      "\n",
      "this is my email <b>yash@ddn.upes.ac.in</b>\n",
      "\n",
      "\n",
      "\n"
     ]
    }
   ],
   "source": [
    "#Q-1 write a function that takes a string with email and return it with email enclosed in bold tag\n",
    "import re \n",
    "test = \"\"\"\n",
    "this is my email yash@ddn.upes.ac.in\n",
    "\"\"\"\n",
    "def bold_email(test):\n",
    "    pattern_email = r\"[\\w.]+@[\\S]*\"\n",
    "    match = re.search(pattern_email,test)\n",
    " #   print(f\"\\n\\n{match.group()}\\n\\n\")\n",
    "    replace = f\"<b>{match.group()}</b>\"\n",
    "    replacedString = re.sub(pattern_email,replace,test)\n",
    "    #print(\"after replacement\")\n",
    "   # print(f\"\\n\\n{replacedString}.\\n\\n\")\n",
    "    return replacedString\n",
    "replacedString = bold_email(test)\n",
    "print(\"after replacement\")\n",
    "print(f\"\\n\\n{replacedString}\\n\\n\")\n"
   ]
  },
  {
   "cell_type": "code",
   "execution_count": null,
   "id": "b9909e6c-6c4c-4407-9471-bc1c1ea2c431",
   "metadata": {},
   "outputs": [],
   "source": []
  },
  {
   "cell_type": "code",
   "execution_count": null,
   "id": "5040f55f-e811-434e-bfde-941dbb573e03",
   "metadata": {},
   "outputs": [],
   "source": []
  }
 ],
 "metadata": {
  "kernelspec": {
   "display_name": "Python 3 (ipykernel)",
   "language": "python",
   "name": "python3"
  },
  "language_info": {
   "codemirror_mode": {
    "name": "ipython",
    "version": 3
   },
   "file_extension": ".py",
   "mimetype": "text/x-python",
   "name": "python",
   "nbconvert_exporter": "python",
   "pygments_lexer": "ipython3",
   "version": "3.12.4"
  }
 },
 "nbformat": 4,
 "nbformat_minor": 5
}
