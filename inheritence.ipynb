{
 "cells": [
  {
   "cell_type": "code",
   "execution_count": 30,
   "id": "189733ee-44ff-4f35-8533-b8802b1033c7",
   "metadata": {},
   "outputs": [
    {
     "name": "stdout",
     "output_type": "stream",
     "text": [
      "Coco says meow!\n",
      "fruity is 2 years old.\n",
      "Persian\n",
      "buddy says woof!\n",
      "max is 2 years old.\n",
      "Canis familiaris\n",
      "<class '__main__.Dog'>\n"
     ]
    }
   ],
   "source": [
    "class Animal:\n",
    "    def __init__(self, name, age):\n",
    "        # Instance attributes (unique to each instance)\n",
    "        self.name = name\n",
    "        self.age = age\n",
    "    #    self.__age = age #private\n",
    "    def get_age(self):\n",
    "        return f\"{self.name} is {self.age} years old.\"\n",
    "\n",
    "class Dog(Animal):\n",
    "    # Class attribute (shared by all instances)\n",
    "    species = \"Canis familiaris\"\n",
    "    \n",
    "\n",
    "    # Instance method\n",
    "    def bark(self):\n",
    "        return f\"{self.name} says woof!\"\n",
    "    \n",
    "class Cat(Animal):\n",
    "    # Class attribute (shared by all instances)\n",
    "    species = \"Persian\"\n",
    "    \n",
    "    # Instance method\n",
    "    def meow(self):\n",
    "        return f\"{self.name} says meow!\"\n",
    "cat1 = Cat(\"Coco\", 3)\n",
    "cat2 = Cat(\"fruity\", 2)\n",
    "print(cat1.meow())\n",
    "print(cat2.get_age())\n",
    "print(cat1.species)\n",
    "\n",
    "dog1 = Dog(\"buddy\", 3)\n",
    "dog2 = Dog(\"max\", 2)\n",
    "print(dog1.bark())\n",
    "print(dog2.get_age())\n",
    "print(dog1.species)\n",
    "print(type(dog1))\n",
    "\n"
   ]
  },
  {
   "cell_type": "code",
   "execution_count": 20,
   "id": "c815cc42-5daf-4632-b338-85239eeaaab3",
   "metadata": {},
   "outputs": [
    {
     "name": "stdout",
     "output_type": "stream",
     "text": [
      "Coco says meow!\n",
      "fruity is 2 years old.\n",
      "Persian\n"
     ]
    }
   ],
   "source": [
    "class Cat:\n",
    "    # Class attribute (shared by all instances)\n",
    "    species = \"Persian\"\n",
    "    \n",
    "    # Constructor (initializer)\n",
    "    def __init__(self, name, age):\n",
    "        # Instance attributes (unique to each instance)\n",
    "        self.name = name\n",
    "        self.age = age\n",
    "    \n",
    "    # Instance method\n",
    "    def meow(self):\n",
    "        return f\"{self.name} says meow!\"\n",
    "    \n",
    "    # Another instance method\n",
    "    def get_age(self):\n",
    "        return f\"{self.name} is {self.age} years old.\"\n",
    "cat1 = Cat(\"Coco\", 3)\n",
    "cat2 = Cat(\"fruity\", 2)\n",
    "print(cat1.meow())\n",
    "print(cat2.get_age())\n",
    "print(cat1.species)\n"
   ]
  },
  {
   "cell_type": "code",
   "execution_count": null,
   "id": "c2a145a2-9e56-4699-b2a1-9eaad49abe64",
   "metadata": {},
   "outputs": [],
   "source": []
  }
 ],
 "metadata": {
  "kernelspec": {
   "display_name": "Python 3 (ipykernel)",
   "language": "python",
   "name": "python3"
  },
  "language_info": {
   "codemirror_mode": {
    "name": "ipython",
    "version": 3
   },
   "file_extension": ".py",
   "mimetype": "text/x-python",
   "name": "python",
   "nbconvert_exporter": "python",
   "pygments_lexer": "ipython3",
   "version": "3.12.4"
  }
 },
 "nbformat": 4,
 "nbformat_minor": 5
}
