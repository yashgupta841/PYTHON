{
 "cells": [
  {
   "cell_type": "code",
   "execution_count": 3,
   "id": "7469071b-e748-4188-a52b-8f5c6e2385ab",
   "metadata": {},
   "outputs": [],
   "source": [
    "%%capture\n",
    "!pip install numpy matplotlib pandas"
   ]
  },
  {
   "cell_type": "code",
   "execution_count": 3,
   "id": "c9d9ea55-fddd-45fc-8471-472bdcf55064",
   "metadata": {},
   "outputs": [],
   "source": [
    "import pandas as pd\n",
    "import numpy as np"
   ]
  },
  {
   "cell_type": "code",
   "execution_count": 9,
   "id": "e476432a-9653-46c5-bc5d-e666bbe33fd9",
   "metadata": {},
   "outputs": [
    {
     "name": "stdout",
     "output_type": "stream",
     "text": [
      "0    10\n",
      "1    20\n",
      "2    30\n",
      "3    40\n",
      "dtype: int64\n"
     ]
    }
   ],
   "source": [
    "#list1 = [1,2,3,3,3,4]\n",
    "#dataDictionary = \n",
    "s = pd.Series([10,20,30,40])\n",
    "print(s)"
   ]
  },
  {
   "cell_type": "code",
   "execution_count": 7,
   "id": "6deb2c4b-83bd-43af-a0d9-84dc618557c8",
   "metadata": {},
   "outputs": [
    {
     "name": "stdout",
     "output_type": "stream",
     "text": [
      "      Name  Age      city\n",
      "0    Alice   24  New york\n",
      "1      Bob   27       Los\n",
      "2  Charlie   22   chicago\n"
     ]
    }
   ],
   "source": [
    "data  = {\n",
    "    'Name':['Alice','Bob','Charlie'],\n",
    "    'Age': [24,27,22],\n",
    "    'city':['New york','Los','chicago']\n",
    "}\n",
    "df=pd.DataFrame(data)\n",
    "print(df)\n",
    "df.to_excel(\"tstet2.xlsx\")\n"
   ]
  },
  {
   "cell_type": "code",
   "execution_count": 9,
   "id": "4426cc8f-5d9c-4599-bf02-ffdac24b8c00",
   "metadata": {},
   "outputs": [
    {
     "name": "stdout",
     "output_type": "stream",
     "text": [
      "0      Alice\n",
      "1        Bob\n",
      "2    Charlie\n",
      "Name: Name, dtype: object\n",
      "      Name  Age\n",
      "0    Alice   24\n",
      "1      Bob   27\n",
      "2  Charlie   22\n"
     ]
    }
   ],
   "source": [
    "# Select a single column\n",
    "print(df['Name'])\n",
    "\n",
    "# Select multiple columns\n",
    "print(df[['Name', 'Age']])"
   ]
  },
  {
   "cell_type": "code",
   "execution_count": 11,
   "id": "41a0d183-c200-4614-9495-03029135d934",
   "metadata": {},
   "outputs": [
    {
     "name": "stdout",
     "output_type": "stream",
     "text": [
      "    Name  Age      city\n",
      "0  Alice   24  New york\n",
      "1    Bob   27       Los\n"
     ]
    }
   ],
   "source": [
    "print(df[df['Age'] > 23])"
   ]
  },
  {
   "cell_type": "code",
   "execution_count": 13,
   "id": "067e0542-426c-4fdc-8fbb-03081cc415c1",
   "metadata": {},
   "outputs": [
    {
     "name": "stdout",
     "output_type": "stream",
     "text": [
      "Department\n",
      "Finance    58000.0\n",
      "HR         51000.0\n",
      "IT         61000.0\n",
      "Name: Salary, dtype: float64\n"
     ]
    }
   ],
   "source": [
    "data = {\n",
    "    'Department': ['HR', 'HR', 'IT', 'IT', 'Finance'],\n",
    "    'Employee': ['Alice', 'Bob', 'Charlie', 'David', 'Eve'],\n",
    "    'Salary': [50000, 52000, 60000, 62000, 58000]\n",
    "}\n",
    "df = pd.DataFrame(data)\n",
    "\n",
    "# Group by Department and calculate the mean salary\n",
    "grouped = df.groupby('Department')['Salary'].mean()\n",
    "print(grouped)"
   ]
  },
  {
   "cell_type": "code",
   "execution_count": 15,
   "id": "fc4cbe89-074e-47af-a423-179be86df53e",
   "metadata": {},
   "outputs": [
    {
     "name": "stdout",
     "output_type": "stream",
     "text": [
      "Year         2019  2020\n",
      "City                   \n",
      "Chicago       NaN   2.7\n",
      "Los Angeles   3.9   NaN\n",
      "New York      8.4   8.3\n"
     ]
    }
   ],
   "source": [
    "data = {\n",
    "    'City': ['New York', 'Los Angeles', 'New York', 'Chicago'],\n",
    "    'Year': [2019, 2019, 2020, 2020],\n",
    "    'Population': [8.4, 3.9, 8.3, 2.7]\n",
    "}\n",
    "df = pd.DataFrame(data)\n",
    "\n",
    "# Create a pivot table with 'Year' as columns\n",
    "pivot = df.pivot_table(values='Population', index='City', columns='Year')\n",
    "print(pivot)"
   ]
  },
  {
   "cell_type": "code",
   "execution_count": 17,
   "id": "c92d49f4-72d9-49ff-94f5-105f7f2341f1",
   "metadata": {},
   "outputs": [
    {
     "name": "stdout",
     "output_type": "stream",
     "text": [
      "          City    variable   value\n",
      "0     New York        Year  2019.0\n",
      "1  Los Angeles        Year  2019.0\n",
      "2     New York        Year  2020.0\n",
      "3      Chicago        Year  2020.0\n",
      "4     New York  Population     8.4\n",
      "5  Los Angeles  Population     3.9\n",
      "6     New York  Population     8.3\n",
      "7      Chicago  Population     2.7\n"
     ]
    }
   ],
   "source": [
    "# Melt the DataFrame\n",
    "melted = pd.melt(df, id_vars=['City'], value_vars=['Year', 'Population'])\n",
    "print(melted)"
   ]
  },
  {
   "cell_type": "code",
   "execution_count": null,
   "id": "bb999d00-ec5a-48b2-b5e8-ef217c0c41ee",
   "metadata": {},
   "outputs": [],
   "source": []
  }
 ],
 "metadata": {
  "kernelspec": {
   "display_name": "Python 3 (ipykernel)",
   "language": "python",
   "name": "python3"
  },
  "language_info": {
   "codemirror_mode": {
    "name": "ipython",
    "version": 3
   },
   "file_extension": ".py",
   "mimetype": "text/x-python",
   "name": "python",
   "nbconvert_exporter": "python",
   "pygments_lexer": "ipython3",
   "version": "3.12.4"
  }
 },
 "nbformat": 4,
 "nbformat_minor": 5
}
