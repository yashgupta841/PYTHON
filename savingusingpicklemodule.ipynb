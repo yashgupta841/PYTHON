{
 "cells": [
  {
   "cell_type": "code",
   "execution_count": 3,
   "id": "1433337c-114b-491a-a938-0a3f4a190003",
   "metadata": {},
   "outputs": [
    {
     "name": "stdout",
     "output_type": "stream",
     "text": [
      "Error occured Saving Object\n"
     ]
    }
   ],
   "source": [
    "import pickle\n",
    "list1 = [1,2,3,4,5,6] # object to saved\n",
    "fileName = \"data.pickle\" #fileName\n",
    "\"\"\"fileHandle = open(fileName, \"wb\")\n",
    "pickle.dump(list ,fileName)\n",
    "fileHandle.close()\"\"\"\n",
    "try:\n",
    "#saving Object using pickle module\n",
    "    with open(fileName, \"wb\") as fileHandle:\n",
    "        pickle.dumb(list1, fileHandle)#dumb method of pickle module is used to save object in to the file\n",
    "    print(\"object save successfully\")\n",
    "except:\n",
    "    print(\"Error occured Saving Object\")\n"
   ]
  },
  {
   "cell_type": "code",
   "execution_count": null,
   "id": "6259e9c1-4588-4155-91ea-4689cdb2961d",
   "metadata": {},
   "outputs": [],
   "source": [
    "\n",
    "\n",
    "\n"
   ]
  }
 ],
 "metadata": {
  "kernelspec": {
   "display_name": "Python 3 (ipykernel)",
   "language": "python",
   "name": "python3"
  },
  "language_info": {
   "codemirror_mode": {
    "name": "ipython",
    "version": 3
   },
   "file_extension": ".py",
   "mimetype": "text/x-python",
   "name": "python",
   "nbconvert_exporter": "python",
   "pygments_lexer": "ipython3",
   "version": "3.12.4"
  }
 },
 "nbformat": 4,
 "nbformat_minor": 5
}
